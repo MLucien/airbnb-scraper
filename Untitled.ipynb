{
 "cells": [
  {
   "cell_type": "code",
   "execution_count": 47,
   "metadata": {},
   "outputs": [],
   "source": [
    "import numpy as np\n",
    "import pandas as pd"
   ]
  },
  {
   "cell_type": "code",
   "execution_count": 49,
   "metadata": {},
   "outputs": [],
   "source": [
    "df = pd.read_json('vancouver2.json')"
   ]
  },
  {
   "cell_type": "code",
   "execution_count": 50,
   "metadata": {},
   "outputs": [],
   "source": [
    "df.to_csv('vancouver2.csv', index=False)"
   ]
  },
  {
   "cell_type": "code",
   "execution_count": 56,
   "metadata": {},
   "outputs": [],
   "source": [
    "df = pd.read_csv('vancouver2.csv')"
   ]
  },
  {
   "cell_type": "code",
   "execution_count": 57,
   "metadata": {},
   "outputs": [
    {
     "data": {
      "text/html": [
       "<div>\n",
       "<style scoped>\n",
       "    .dataframe tbody tr th:only-of-type {\n",
       "        vertical-align: middle;\n",
       "    }\n",
       "\n",
       "    .dataframe tbody tr th {\n",
       "        vertical-align: top;\n",
       "    }\n",
       "\n",
       "    .dataframe thead th {\n",
       "        text-align: right;\n",
       "    }\n",
       "</style>\n",
       "<table border=\"1\" class=\"dataframe\">\n",
       "  <thead>\n",
       "    <tr style=\"text-align: right;\">\n",
       "      <th></th>\n",
       "      <th>accuracy</th>\n",
       "      <th>amt_w_service</th>\n",
       "      <th>avg_rating</th>\n",
       "      <th>bathrooms</th>\n",
       "      <th>bedrooms</th>\n",
       "      <th>can_instant_book</th>\n",
       "      <th>checkin</th>\n",
       "      <th>cleanliness</th>\n",
       "      <th>communication</th>\n",
       "      <th>currency</th>\n",
       "      <th>...</th>\n",
       "      <th>price</th>\n",
       "      <th>rate_type</th>\n",
       "      <th>response_rate</th>\n",
       "      <th>response_time</th>\n",
       "      <th>reviews_count</th>\n",
       "      <th>room_type_category</th>\n",
       "      <th>star_rating</th>\n",
       "      <th>url</th>\n",
       "      <th>value</th>\n",
       "      <th>weekly_price_factor</th>\n",
       "    </tr>\n",
       "  </thead>\n",
       "  <tbody>\n",
       "    <tr>\n",
       "      <th>0</th>\n",
       "      <td>10</td>\n",
       "      <td>30</td>\n",
       "      <td>4.90</td>\n",
       "      <td>1.0</td>\n",
       "      <td>1</td>\n",
       "      <td>True</td>\n",
       "      <td>9</td>\n",
       "      <td>10</td>\n",
       "      <td>10</td>\n",
       "      <td>CAD</td>\n",
       "      <td>...</td>\n",
       "      <td>30</td>\n",
       "      <td>nightly</td>\n",
       "      <td>100</td>\n",
       "      <td>within an hour</td>\n",
       "      <td>8</td>\n",
       "      <td>private_room</td>\n",
       "      <td>5.0</td>\n",
       "      <td>https://www.airbnb.com/rooms/31699243</td>\n",
       "      <td>10</td>\n",
       "      <td>0.94</td>\n",
       "    </tr>\n",
       "    <tr>\n",
       "      <th>1</th>\n",
       "      <td>9</td>\n",
       "      <td>22</td>\n",
       "      <td>4.15</td>\n",
       "      <td>3.0</td>\n",
       "      <td>1</td>\n",
       "      <td>False</td>\n",
       "      <td>10</td>\n",
       "      <td>8</td>\n",
       "      <td>10</td>\n",
       "      <td>CAD</td>\n",
       "      <td>...</td>\n",
       "      <td>22</td>\n",
       "      <td>nightly</td>\n",
       "      <td>99</td>\n",
       "      <td>within an hour</td>\n",
       "      <td>8</td>\n",
       "      <td>shared_room</td>\n",
       "      <td>4.0</td>\n",
       "      <td>https://www.airbnb.com/rooms/20733342</td>\n",
       "      <td>8</td>\n",
       "      <td>1.00</td>\n",
       "    </tr>\n",
       "    <tr>\n",
       "      <th>2</th>\n",
       "      <td>10</td>\n",
       "      <td>28</td>\n",
       "      <td>4.75</td>\n",
       "      <td>1.0</td>\n",
       "      <td>1</td>\n",
       "      <td>False</td>\n",
       "      <td>10</td>\n",
       "      <td>9</td>\n",
       "      <td>10</td>\n",
       "      <td>CAD</td>\n",
       "      <td>...</td>\n",
       "      <td>28</td>\n",
       "      <td>nightly</td>\n",
       "      <td>100</td>\n",
       "      <td>within an hour</td>\n",
       "      <td>4</td>\n",
       "      <td>private_room</td>\n",
       "      <td>5.0</td>\n",
       "      <td>https://www.airbnb.com/rooms/2055456</td>\n",
       "      <td>10</td>\n",
       "      <td>1.00</td>\n",
       "    </tr>\n",
       "    <tr>\n",
       "      <th>3</th>\n",
       "      <td>0</td>\n",
       "      <td>30</td>\n",
       "      <td>NaN</td>\n",
       "      <td>1.0</td>\n",
       "      <td>1</td>\n",
       "      <td>True</td>\n",
       "      <td>0</td>\n",
       "      <td>0</td>\n",
       "      <td>0</td>\n",
       "      <td>CAD</td>\n",
       "      <td>...</td>\n",
       "      <td>30</td>\n",
       "      <td>nightly</td>\n",
       "      <td>100</td>\n",
       "      <td>within an hour</td>\n",
       "      <td>0</td>\n",
       "      <td>private_room</td>\n",
       "      <td>NaN</td>\n",
       "      <td>https://www.airbnb.com/rooms/33292435</td>\n",
       "      <td>0</td>\n",
       "      <td>1.00</td>\n",
       "    </tr>\n",
       "    <tr>\n",
       "      <th>4</th>\n",
       "      <td>10</td>\n",
       "      <td>99</td>\n",
       "      <td>4.75</td>\n",
       "      <td>1.0</td>\n",
       "      <td>1</td>\n",
       "      <td>True</td>\n",
       "      <td>10</td>\n",
       "      <td>10</td>\n",
       "      <td>10</td>\n",
       "      <td>CAD</td>\n",
       "      <td>...</td>\n",
       "      <td>99</td>\n",
       "      <td>nightly</td>\n",
       "      <td>100</td>\n",
       "      <td>within an hour</td>\n",
       "      <td>92</td>\n",
       "      <td>entire_home</td>\n",
       "      <td>5.0</td>\n",
       "      <td>https://www.airbnb.com/rooms/19893876</td>\n",
       "      <td>10</td>\n",
       "      <td>0.95</td>\n",
       "    </tr>\n",
       "  </tbody>\n",
       "</table>\n",
       "<p>5 rows × 37 columns</p>\n",
       "</div>"
      ],
      "text/plain": [
       "   accuracy  amt_w_service  avg_rating  bathrooms  bedrooms  can_instant_book  \\\n",
       "0        10             30        4.90        1.0         1              True   \n",
       "1         9             22        4.15        3.0         1             False   \n",
       "2        10             28        4.75        1.0         1             False   \n",
       "3         0             30         NaN        1.0         1              True   \n",
       "4        10             99        4.75        1.0         1              True   \n",
       "\n",
       "   checkin  cleanliness  communication currency  ...  price  rate_type  \\\n",
       "0        9           10             10      CAD  ...     30    nightly   \n",
       "1       10            8             10      CAD  ...     22    nightly   \n",
       "2       10            9             10      CAD  ...     28    nightly   \n",
       "3        0            0              0      CAD  ...     30    nightly   \n",
       "4       10           10             10      CAD  ...     99    nightly   \n",
       "\n",
       "   response_rate   response_time  reviews_count  room_type_category  \\\n",
       "0            100  within an hour              8        private_room   \n",
       "1             99  within an hour              8         shared_room   \n",
       "2            100  within an hour              4        private_room   \n",
       "3            100  within an hour              0        private_room   \n",
       "4            100  within an hour             92         entire_home   \n",
       "\n",
       "   star_rating                                    url value  \\\n",
       "0          5.0  https://www.airbnb.com/rooms/31699243    10   \n",
       "1          4.0  https://www.airbnb.com/rooms/20733342     8   \n",
       "2          5.0   https://www.airbnb.com/rooms/2055456    10   \n",
       "3          NaN  https://www.airbnb.com/rooms/33292435     0   \n",
       "4          5.0  https://www.airbnb.com/rooms/19893876    10   \n",
       "\n",
       "   weekly_price_factor  \n",
       "0                 0.94  \n",
       "1                 1.00  \n",
       "2                 1.00  \n",
       "3                 1.00  \n",
       "4                 0.95  \n",
       "\n",
       "[5 rows x 37 columns]"
      ]
     },
     "execution_count": 57,
     "metadata": {},
     "output_type": "execute_result"
    }
   ],
   "source": [
    "df.head()"
   ]
  },
  {
   "cell_type": "code",
   "execution_count": 58,
   "metadata": {},
   "outputs": [],
   "source": [
    "airbnb = pd.concat([airbnb, df])"
   ]
  },
  {
   "cell_type": "code",
   "execution_count": 59,
   "metadata": {},
   "outputs": [],
   "source": [
    "airbnb.drop_duplicates(subset='url', keep='first', inplace=True)\n"
   ]
  },
  {
   "cell_type": "code",
   "execution_count": 60,
   "metadata": {},
   "outputs": [
    {
     "data": {
      "text/plain": [
       "(2057, 37)"
      ]
     },
     "execution_count": 60,
     "metadata": {},
     "output_type": "execute_result"
    }
   ],
   "source": [
    "airbnb.shape"
   ]
  },
  {
   "cell_type": "code",
   "execution_count": 61,
   "metadata": {},
   "outputs": [],
   "source": [
    "airbnb.to_csv('vancouver.csv', index=False)"
   ]
  },
  {
   "cell_type": "code",
   "execution_count": 44,
   "metadata": {},
   "outputs": [],
   "source": [
    "airbnb = pd.read_csv('vancouver.csv')"
   ]
  },
  {
   "cell_type": "code",
   "execution_count": 45,
   "metadata": {},
   "outputs": [
    {
     "data": {
      "text/html": [
       "<div>\n",
       "<style scoped>\n",
       "    .dataframe tbody tr th:only-of-type {\n",
       "        vertical-align: middle;\n",
       "    }\n",
       "\n",
       "    .dataframe tbody tr th {\n",
       "        vertical-align: top;\n",
       "    }\n",
       "\n",
       "    .dataframe thead th {\n",
       "        text-align: right;\n",
       "    }\n",
       "</style>\n",
       "<table border=\"1\" class=\"dataframe\">\n",
       "  <thead>\n",
       "    <tr style=\"text-align: right;\">\n",
       "      <th></th>\n",
       "      <th>accuracy</th>\n",
       "      <th>amt_w_service</th>\n",
       "      <th>avg_rating</th>\n",
       "      <th>bathrooms</th>\n",
       "      <th>bedrooms</th>\n",
       "      <th>can_instant_book</th>\n",
       "      <th>checkin</th>\n",
       "      <th>cleanliness</th>\n",
       "      <th>communication</th>\n",
       "      <th>currency</th>\n",
       "      <th>...</th>\n",
       "      <th>price</th>\n",
       "      <th>rate_type</th>\n",
       "      <th>response_rate</th>\n",
       "      <th>response_time</th>\n",
       "      <th>reviews_count</th>\n",
       "      <th>room_type_category</th>\n",
       "      <th>star_rating</th>\n",
       "      <th>url</th>\n",
       "      <th>value</th>\n",
       "      <th>weekly_price_factor</th>\n",
       "    </tr>\n",
       "  </thead>\n",
       "  <tbody>\n",
       "    <tr>\n",
       "      <th>0</th>\n",
       "      <td>10</td>\n",
       "      <td>40</td>\n",
       "      <td>4.90</td>\n",
       "      <td>1.0</td>\n",
       "      <td>1</td>\n",
       "      <td>True</td>\n",
       "      <td>10</td>\n",
       "      <td>10</td>\n",
       "      <td>10</td>\n",
       "      <td>CAD</td>\n",
       "      <td>...</td>\n",
       "      <td>40</td>\n",
       "      <td>nightly</td>\n",
       "      <td>100</td>\n",
       "      <td>within an hour</td>\n",
       "      <td>89</td>\n",
       "      <td>private_room</td>\n",
       "      <td>5.0</td>\n",
       "      <td>https://www.airbnb.com/rooms/15842661</td>\n",
       "      <td>10</td>\n",
       "      <td>1.00</td>\n",
       "    </tr>\n",
       "    <tr>\n",
       "      <th>1</th>\n",
       "      <td>10</td>\n",
       "      <td>74</td>\n",
       "      <td>4.65</td>\n",
       "      <td>1.0</td>\n",
       "      <td>1</td>\n",
       "      <td>True</td>\n",
       "      <td>10</td>\n",
       "      <td>10</td>\n",
       "      <td>10</td>\n",
       "      <td>CAD</td>\n",
       "      <td>...</td>\n",
       "      <td>74</td>\n",
       "      <td>nightly</td>\n",
       "      <td>100</td>\n",
       "      <td>within an hour</td>\n",
       "      <td>126</td>\n",
       "      <td>private_room</td>\n",
       "      <td>4.5</td>\n",
       "      <td>https://www.airbnb.com/rooms/20801787</td>\n",
       "      <td>9</td>\n",
       "      <td>0.95</td>\n",
       "    </tr>\n",
       "    <tr>\n",
       "      <th>2</th>\n",
       "      <td>10</td>\n",
       "      <td>79</td>\n",
       "      <td>4.70</td>\n",
       "      <td>1.0</td>\n",
       "      <td>1</td>\n",
       "      <td>False</td>\n",
       "      <td>10</td>\n",
       "      <td>10</td>\n",
       "      <td>10</td>\n",
       "      <td>CAD</td>\n",
       "      <td>...</td>\n",
       "      <td>79</td>\n",
       "      <td>nightly</td>\n",
       "      <td>100</td>\n",
       "      <td>within an hour</td>\n",
       "      <td>275</td>\n",
       "      <td>private_room</td>\n",
       "      <td>4.5</td>\n",
       "      <td>https://www.airbnb.com/rooms/5562730</td>\n",
       "      <td>10</td>\n",
       "      <td>0.95</td>\n",
       "    </tr>\n",
       "    <tr>\n",
       "      <th>3</th>\n",
       "      <td>10</td>\n",
       "      <td>60</td>\n",
       "      <td>4.80</td>\n",
       "      <td>1.0</td>\n",
       "      <td>1</td>\n",
       "      <td>True</td>\n",
       "      <td>10</td>\n",
       "      <td>10</td>\n",
       "      <td>10</td>\n",
       "      <td>CAD</td>\n",
       "      <td>...</td>\n",
       "      <td>60</td>\n",
       "      <td>nightly</td>\n",
       "      <td>100</td>\n",
       "      <td>within an hour</td>\n",
       "      <td>59</td>\n",
       "      <td>private_room</td>\n",
       "      <td>5.0</td>\n",
       "      <td>https://www.airbnb.com/rooms/20361528</td>\n",
       "      <td>10</td>\n",
       "      <td>0.95</td>\n",
       "    </tr>\n",
       "    <tr>\n",
       "      <th>4</th>\n",
       "      <td>10</td>\n",
       "      <td>116</td>\n",
       "      <td>4.95</td>\n",
       "      <td>1.0</td>\n",
       "      <td>1</td>\n",
       "      <td>True</td>\n",
       "      <td>10</td>\n",
       "      <td>10</td>\n",
       "      <td>10</td>\n",
       "      <td>CAD</td>\n",
       "      <td>...</td>\n",
       "      <td>116</td>\n",
       "      <td>nightly</td>\n",
       "      <td>100</td>\n",
       "      <td>within an hour</td>\n",
       "      <td>23</td>\n",
       "      <td>entire_home</td>\n",
       "      <td>5.0</td>\n",
       "      <td>https://www.airbnb.com/rooms/33051289</td>\n",
       "      <td>10</td>\n",
       "      <td>1.00</td>\n",
       "    </tr>\n",
       "  </tbody>\n",
       "</table>\n",
       "<p>5 rows × 37 columns</p>\n",
       "</div>"
      ],
      "text/plain": [
       "   accuracy  amt_w_service  avg_rating  bathrooms  bedrooms  can_instant_book  \\\n",
       "0        10             40        4.90        1.0         1              True   \n",
       "1        10             74        4.65        1.0         1              True   \n",
       "2        10             79        4.70        1.0         1             False   \n",
       "3        10             60        4.80        1.0         1              True   \n",
       "4        10            116        4.95        1.0         1              True   \n",
       "\n",
       "   checkin  cleanliness  communication currency  ...  price  rate_type  \\\n",
       "0       10           10             10      CAD  ...     40    nightly   \n",
       "1       10           10             10      CAD  ...     74    nightly   \n",
       "2       10           10             10      CAD  ...     79    nightly   \n",
       "3       10           10             10      CAD  ...     60    nightly   \n",
       "4       10           10             10      CAD  ...    116    nightly   \n",
       "\n",
       "   response_rate   response_time  reviews_count  room_type_category  \\\n",
       "0            100  within an hour             89        private_room   \n",
       "1            100  within an hour            126        private_room   \n",
       "2            100  within an hour            275        private_room   \n",
       "3            100  within an hour             59        private_room   \n",
       "4            100  within an hour             23         entire_home   \n",
       "\n",
       "   star_rating                                    url value  \\\n",
       "0          5.0  https://www.airbnb.com/rooms/15842661    10   \n",
       "1          4.5  https://www.airbnb.com/rooms/20801787     9   \n",
       "2          4.5   https://www.airbnb.com/rooms/5562730    10   \n",
       "3          5.0  https://www.airbnb.com/rooms/20361528    10   \n",
       "4          5.0  https://www.airbnb.com/rooms/33051289    10   \n",
       "\n",
       "   weekly_price_factor  \n",
       "0                 1.00  \n",
       "1                 0.95  \n",
       "2                 0.95  \n",
       "3                 0.95  \n",
       "4                 1.00  \n",
       "\n",
       "[5 rows x 37 columns]"
      ]
     },
     "execution_count": 45,
     "metadata": {},
     "output_type": "execute_result"
    }
   ],
   "source": [
    "airbnb.head()"
   ]
  },
  {
   "cell_type": "code",
   "execution_count": 46,
   "metadata": {},
   "outputs": [
    {
     "data": {
      "text/plain": [
       "(1862, 37)"
      ]
     },
     "execution_count": 46,
     "metadata": {},
     "output_type": "execute_result"
    }
   ],
   "source": [
    "airbnb.shape"
   ]
  },
  {
   "cell_type": "code",
   "execution_count": 29,
   "metadata": {},
   "outputs": [
    {
     "data": {
      "text/plain": [
       "Index(['accuracy', 'Unnamed: 0', 'amt_w_service', 'avg_rating', 'bathrooms',\n",
       "       'bedrooms', 'can_instant_book', 'checkin', 'cleanliness',\n",
       "       'communication', 'currency', 'guest_satisfication', 'host_id',\n",
       "       'host_reviews', 'is_business_travel_ready', 'is_fully_refundable',\n",
       "       'is_new_listing', 'is_superhost', 'lat', 'listing_name', 'lng',\n",
       "       'localized_city', 'localized_neighborhood', 'location',\n",
       "       'monthly_price_factor', 'num_beds', 'person_capacity', 'picture_count',\n",
       "       'price', 'rate_type', 'response_rate', 'response_time', 'reviews_count',\n",
       "       'room_type_category', 'star_rating', 'url', 'value',\n",
       "       'weekly_price_factor'],\n",
       "      dtype='object')"
      ]
     },
     "execution_count": 29,
     "metadata": {},
     "output_type": "execute_result"
    }
   ],
   "source": [
    "airbnb.columns"
   ]
  },
  {
   "cell_type": "code",
   "execution_count": 41,
   "metadata": {},
   "outputs": [
    {
     "data": {
      "image/png": "[encoded data removed]",
      "text/plain": [
       "<Figure size 432x288 with 1 Axes>"
      ]
     },
     "metadata": {
      "needs_background": "light"
     },
     "output_type": "display_data"
    }
   ],
   "source": [
    "import matplotlib.pyplot as plt\n",
    "\n",
    "plt.hist(airbnb['price'])\n",
    "plt.show()"
   ]
  },
  {
   "cell_type": "code",
   "execution_count": 43,
   "metadata": {},
   "outputs": [
    {
     "name": "stderr",
     "output_type": "stream",
     "text": [
      "/Users/kailu/.pyenv/versions/3.6.5/lib/python3.6/site-packages/numpy/lib/histograms.py:824: RuntimeWarning: invalid value encountered in greater_equal\n",
      "  keep = (tmp_a >= first_edge)\n",
      "/Users/kailu/.pyenv/versions/3.6.5/lib/python3.6/site-packages/numpy/lib/histograms.py:825: RuntimeWarning: invalid value encountered in less_equal\n",
      "  keep &= (tmp_a <= last_edge)\n"
     ]
    },
    {
     "data": {
      "image/png": "[encoded data removed]",
      "text/plain": [
       "<Figure size 432x288 with 1 Axes>"
      ]
     },
     "metadata": {
      "needs_background": "light"
     },
     "output_type": "display_data"
    }
   ],
   "source": [
    "plt.hist(airbnb['avg_rating'])\n",
    "plt.show()"
   ]
  },
  {
   "cell_type": "code",
   "execution_count": 48,
   "metadata": {},
   "outputs": [
    {
     "data": {
      "text/plain": [
       "4.772823303457106"
      ]
     },
     "execution_count": 48,
     "metadata": {},
     "output_type": "execute_result"
    }
   ],
   "source": [
    "np.mean(airbnb['avg_rating'])"
   ]
  },
  {
   "cell_type": "code",
   "execution_count": 62,
   "metadata": {},
   "outputs": [
    {
     "data": {
      "text/plain": [
       "<function matplotlib.pyplot.show(*args, **kw)>"
      ]
     },
     "execution_count": 62,
     "metadata": {},
     "output_type": "execute_result"
    },
    {
     "data": {
      "image/png": "[encoded data removed]",
      "text/plain": [
       "<Figure size 432x288 with 1 Axes>"
      ]
     },
     "metadata": {
      "needs_background": "light"
     },
     "output_type": "display_data"
    }
   ],
   "source": [
    "plt.hist(airbnb['accuracy'])\n",
    "plt.show"
   ]
  },
  {
   "cell_type": "code",
   "execution_count": null,
   "metadata": {},
   "outputs": [],
   "source": []
  }
 ],
 "metadata": {
  "kernelspec": {
   "display_name": "Python 3",
   "language": "python",
   "name": "python3"
  },
  "language_info": {
   "codemirror_mode": {
    "name": "ipython",
    "version": 3
   },
   "file_extension": ".py",
   "mimetype": "text/x-python",
   "name": "python",
   "nbconvert_exporter": "python",
   "pygments_lexer": "ipython3",
   "version": "3.6.5"
  }
 },
 "nbformat": 4,
 "nbformat_minor": 2
}
