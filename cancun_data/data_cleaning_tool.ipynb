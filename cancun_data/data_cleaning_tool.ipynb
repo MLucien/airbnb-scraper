{
 "cells": [
  {
   "cell_type": "code",
   "execution_count": 1,
   "metadata": {},
   "outputs": [],
   "source": [
    "import numpy as np\n",
    "import pandas as pd\n",
    "import json\n",
    "import os"
   ]
  },
  {
   "cell_type": "code",
   "execution_count": 2,
   "metadata": {},
   "outputs": [],
   "source": [
    "df = pd.DataFrame()\n",
    "for num in np.arange(21, 991, 10):\n",
    "    lower_bound = str(num)\n",
    "    upper_bound = str(num + 10)\n",
    "    filename = lower_bound + \"to\" + upper_bound + \".json\"\n",
    "    # Check if file is empty\n",
    "    if os.stat(filename).st_size != 0:    \n",
    "        some_df = pd.read_json(filename)\n",
    "        df = pd.concat([df, some_df])"
   ]
  },
  {
   "cell_type": "code",
   "execution_count": 3,
   "metadata": {},
   "outputs": [
    {
     "data": {
      "text/plain": [
       "5766"
      ]
     },
     "execution_count": 3,
     "metadata": {},
     "output_type": "execute_result"
    }
   ],
   "source": [
    "len(df)"
   ]
  },
  {
   "cell_type": "code",
   "execution_count": 4,
   "metadata": {},
   "outputs": [],
   "source": [
    "df.drop_duplicates(subset='url', keep='first', inplace=True)\n"
   ]
  },
  {
   "cell_type": "code",
   "execution_count": 5,
   "metadata": {},
   "outputs": [
    {
     "data": {
      "text/plain": [
       "5224"
      ]
     },
     "execution_count": 5,
     "metadata": {},
     "output_type": "execute_result"
    }
   ],
   "source": [
    "len(df)"
   ]
  },
  {
   "cell_type": "code",
   "execution_count": 6,
   "metadata": {},
   "outputs": [
    {
     "data": {
      "text/plain": [
       "(5224, 37)"
      ]
     },
     "execution_count": 6,
     "metadata": {},
     "output_type": "execute_result"
    }
   ],
   "source": [
    "df.shape"
   ]
  },
  {
   "cell_type": "code",
   "execution_count": 7,
   "metadata": {},
   "outputs": [],
   "source": [
    "df.to_csv('cancun_scrape_2.csv', index=False)"
   ]
  },
  {
   "cell_type": "code",
   "execution_count": 13,
   "metadata": {},
   "outputs": [
    {
     "data": {
      "text/html": [
       "<div>\n",
       "<style scoped>\n",
       "    .dataframe tbody tr th:only-of-type {\n",
       "        vertical-align: middle;\n",
       "    }\n",
       "\n",
       "    .dataframe tbody tr th {\n",
       "        vertical-align: top;\n",
       "    }\n",
       "\n",
       "    .dataframe thead th {\n",
       "        text-align: right;\n",
       "    }\n",
       "</style>\n",
       "<table border=\"1\" class=\"dataframe\">\n",
       "  <thead>\n",
       "    <tr style=\"text-align: right;\">\n",
       "      <th></th>\n",
       "      <th>accuracy</th>\n",
       "      <th>amt_w_service</th>\n",
       "      <th>avg_rating</th>\n",
       "      <th>bathrooms</th>\n",
       "      <th>bedrooms</th>\n",
       "      <th>can_instant_book</th>\n",
       "      <th>checkin</th>\n",
       "      <th>cleanliness</th>\n",
       "      <th>communication</th>\n",
       "      <th>currency</th>\n",
       "      <th>...</th>\n",
       "      <th>price</th>\n",
       "      <th>rate_type</th>\n",
       "      <th>response_rate</th>\n",
       "      <th>response_time</th>\n",
       "      <th>reviews_count</th>\n",
       "      <th>room_type_category</th>\n",
       "      <th>star_rating</th>\n",
       "      <th>url</th>\n",
       "      <th>value</th>\n",
       "      <th>weekly_price_factor</th>\n",
       "    </tr>\n",
       "  </thead>\n",
       "  <tbody>\n",
       "    <tr>\n",
       "      <th>86</th>\n",
       "      <td>10</td>\n",
       "      <td>237</td>\n",
       "      <td>4.8</td>\n",
       "      <td>2.0</td>\n",
       "      <td>2.0</td>\n",
       "      <td>True</td>\n",
       "      <td>10</td>\n",
       "      <td>10</td>\n",
       "      <td>10</td>\n",
       "      <td>CAD</td>\n",
       "      <td>...</td>\n",
       "      <td>237</td>\n",
       "      <td>nightly</td>\n",
       "      <td>100</td>\n",
       "      <td>within an hour</td>\n",
       "      <td>69</td>\n",
       "      <td>entire_home</td>\n",
       "      <td>5.0</td>\n",
       "      <td>https://www.airbnb.com/rooms/10823831</td>\n",
       "      <td>10</td>\n",
       "      <td>1.0</td>\n",
       "    </tr>\n",
       "  </tbody>\n",
       "</table>\n",
       "<p>1 rows × 37 columns</p>\n",
       "</div>"
      ],
      "text/plain": [
       "    accuracy  amt_w_service  avg_rating  bathrooms  bedrooms  \\\n",
       "86        10            237         4.8        2.0       2.0   \n",
       "\n",
       "    can_instant_book  checkin  cleanliness  communication currency  ...  \\\n",
       "86              True       10           10             10      CAD  ...   \n",
       "\n",
       "    price  rate_type  response_rate   response_time  reviews_count  \\\n",
       "86    237    nightly            100  within an hour             69   \n",
       "\n",
       "    room_type_category  star_rating                                    url  \\\n",
       "86         entire_home          5.0  https://www.airbnb.com/rooms/10823831   \n",
       "\n",
       "   value  weekly_price_factor  \n",
       "86    10                  1.0  \n",
       "\n",
       "[1 rows x 37 columns]"
      ]
     },
     "execution_count": 13,
     "metadata": {},
     "output_type": "execute_result"
    }
   ],
   "source": [
    "df[df['url'] == 'https://www.airbnb.com/rooms/10823831']"
   ]
  },
  {
   "cell_type": "code",
   "execution_count": null,
   "metadata": {},
   "outputs": [],
   "source": []
  }
 ],
 "metadata": {
  "kernelspec": {
   "display_name": "Python 3",
   "language": "python",
   "name": "python3"
  },
  "language_info": {
   "codemirror_mode": {
    "name": "ipython",
    "version": 3
   },
   "file_extension": ".py",
   "mimetype": "text/x-python",
   "name": "python",
   "nbconvert_exporter": "python",
   "pygments_lexer": "ipython3",
   "version": "3.6.5"
  }
 },
 "nbformat": 4,
 "nbformat_minor": 2
}
